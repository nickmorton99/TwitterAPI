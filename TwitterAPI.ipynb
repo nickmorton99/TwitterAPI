{
 "cells": [
  {
   "cell_type": "code",
   "execution_count": 1,
   "metadata": {
    "collapsed": true
   },
   "outputs": [],
   "source": [
    "NAME = \"Nick Morton\"\n",
    "COLLABORATORS = \"Quan Tran\""
   ]
  },
  {
   "cell_type": "code",
   "execution_count": 31,
   "metadata": {
    "collapsed": true
   },
   "outputs": [],
   "source": [
    "from requests_oauthlib import OAuth1Session\n",
    "import requests\n",
    "from requests_oauthlib import OAuth1\n",
    "import json\n",
    "import pandas as pd\n",
    "import re\n",
    "import sqlalchemy as sa"
   ]
  },
  {
   "cell_type": "markdown",
   "metadata": {},
   "source": [
    "---"
   ]
  },
  {
   "cell_type": "markdown",
   "metadata": {},
   "source": [
    "# Twitter Data Acquisition Notebook"
   ]
  },
  {
   "cell_type": "markdown",
   "metadata": {},
   "source": [
    "## 1. Authorization & Authentication"
   ]
  },
  {
   "cell_type": "markdown",
   "metadata": {},
   "source": [
    "### Obtaining the access key and secret from the token file."
   ]
  },
  {
   "cell_type": "code",
   "execution_count": 120,
   "metadata": {
    "collapsed": true
   },
   "outputs": [],
   "source": [
    "def getAccessTokens(token_file_name):\n",
    "    token_file = open(token_file_name, \"r\")\n",
    "\n",
    "    cred_str = token_file.read()\n",
    "    cred = json.loads(cred_str)\n",
    "    token_file.close()\n",
    "    \n",
    "    return cred['key'], cred['secret'], cred['client_key'], cred['client_secret']"
   ]
  },
  {
   "cell_type": "code",
   "execution_count": 121,
   "metadata": {
    "collapsed": true
   },
   "outputs": [],
   "source": [
    "access_token_key, access_token_secret, client_key, client_secret = getAccessTokens('tokens.txt')"
   ]
  },
  {
   "cell_type": "markdown",
   "metadata": {},
   "source": [
    "### Creating an OAuth object to be reused"
   ]
  },
  {
   "cell_type": "code",
   "execution_count": 122,
   "metadata": {
    "collapsed": true
   },
   "outputs": [],
   "source": [
    "oauth = OAuth1(client_key,\n",
    "                   client_secret=client_secret,\n",
    "                   resource_owner_key=access_token_key,\n",
    "                   resource_owner_secret=access_token_secret)"
   ]
  },
  {
   "cell_type": "markdown",
   "metadata": {},
   "source": [
    "## 2. Retrieving tweets from public Twitter profiles. "
   ]
  },
  {
   "cell_type": "markdown",
   "metadata": {},
   "source": [
    "- We first write a function `getTweetDf` to retrieve the tweets from the Twitter profile with the given name, and put the major fields (id, username, tweet text, favorite count and retweet count) into a DataFrame and return it."
   ]
  },
  {
   "cell_type": "code",
   "execution_count": 10,
   "metadata": {
    "collapsed": true
   },
   "outputs": [],
   "source": [
    "def getTweetDf(screen_name, oauth):\n",
    "    # Specify the API endpoint and parameters\n",
    "    protected_url = 'https://api.twitter.com/1.1/statuses/user_timeline.json'\n",
    "    params = {'screen_name': screen_name, 'count': 200, 'exclude_replies': 'true', 'include_rts': 'false'}\n",
    "    tweets = []\n",
    "    \n",
    "    # We only need a maximum of 900 tweets per Twitter account\n",
    "    while len(tweets) < 900:\n",
    "        r = requests.get(url=protected_url, auth=oauth, params=params)\n",
    "        r = r.json()\n",
    "        if len(r) == 0:\n",
    "            break\n",
    "            \n",
    "        lastTweet = r[-1]\n",
    "        params['max_id'] = lastTweet['id'] - 1\n",
    "        \n",
    "        tweets.extend(r)\n",
    "        \n",
    "    # Put 900 tweets into a DataFrame and keep the important fields\n",
    "    tweets = tweets[:900]\n",
    "    tweetsDf = pd.DataFrame(tweets)\n",
    "    tweetsDf = tweetsDf[['id', 'user', 'text', 'favorite_count', 'retweet_count']]\n",
    "    \n",
    "    # Use the screen name for the user column instead of the whole user object\n",
    "    for index, row in tweetsDf.iterrows():\n",
    "        tweetsDf.at[index, 'user'] = tweetsDf.loc[index, 'user']['screen_name']\n",
    "    \n",
    "    return tweetsDf"
   ]
  },
  {
   "cell_type": "markdown",
   "metadata": {},
   "source": [
    "- Next, we have the function `getWordFreqsDf` which takes a DataFrame of tweets, looks at their texts and computes the frequency of each word that appears in the tweets.\n",
    "- The function also computes the average numbers of favorites and retweets of the tweets that each word appears in."
   ]
  },
  {
   "cell_type": "code",
   "execution_count": 44,
   "metadata": {
    "collapsed": true
   },
   "outputs": [],
   "source": [
    "def getWordFreqsDf(tweetDf, groupNumber):\n",
    "    wordFreq = {}\n",
    "\n",
    "    for index, row in tweetDf.iterrows():\n",
    "        words = re.split('\\W+', row['text'])\n",
    "        \n",
    "        # Compute the frequency of each word in a single tweet\n",
    "        wordFreqInTweet = {}\n",
    "        for word in words:\n",
    "            if word in wordFreqInTweet:\n",
    "                wordFreqInTweet[word] += 1\n",
    "            else:\n",
    "                wordFreqInTweet[word] = 1\n",
    "        \n",
    "        # For each word, we store its frequency, the number of tweets\n",
    "        # it appears in, and the total numbers of favorites and retweets.\n",
    "        for word in wordFreqInTweet:\n",
    "            if word in wordFreq:\n",
    "                wordFreq[word]['freq'] += wordFreqInTweet[word]\n",
    "                wordFreq[word]['tweets_count'] += 1\n",
    "                wordFreq[word]['retweet'] += row['retweet_count']\n",
    "                wordFreq[word]['favorite'] += row['favorite_count']\n",
    "            else:\n",
    "                wordFreq[word] = {'freq': 1, 'tweets_count': 1, \n",
    "                                  'retweet': row['retweet_count'], \n",
    "                                  'favorite': row['favorite_count'],\n",
    "                                  'avg_retweet': 0, 'avg_favorite': 0,\n",
    "                                  'group': groupNumber}\n",
    "    \n",
    "    # Compute the average numbers of retweets and favorites.\n",
    "    for word in wordFreq:\n",
    "        wordFreq[word]['avg_retweet'] = wordFreq[word]['retweet'] / wordFreq[word]['tweets_count']\n",
    "        wordFreq[word]['avg_favorite'] = wordFreq[word]['favorite'] / wordFreq[word]['tweets_count']\n",
    "    \n",
    "    # Put all the data in a table and convert it to a DataFrame\n",
    "    wordFreqTable = []\n",
    "    wordFreqTable.append(['Word', 'Frequency', 'Average Retweets', 'Average Favorites', 'Group'])\n",
    "    for word in wordFreq:\n",
    "        wordFreqTable.append([word, wordFreq[word]['freq'], \n",
    "                              wordFreq[word]['avg_retweet'], \n",
    "                              wordFreq[word]['avg_favorite'],\n",
    "                              wordFreq[word]['group']])\n",
    "        \n",
    "    df = pd.DataFrame(wordFreqTable)\n",
    "    df = df.rename(columns=df.iloc[0])\n",
    "    df = df.drop(df.index[0])\n",
    "    \n",
    "    return df"
   ]
  },
  {
   "cell_type": "markdown",
   "metadata": {},
   "source": [
    "- Next, we get the tweets from the athletes' Twitter accounts and compute the word frequencies."
   ]
  },
  {
   "cell_type": "code",
   "execution_count": 25,
   "metadata": {
    "collapsed": false
   },
   "outputs": [
    {
     "name": "stdout",
     "output_type": "stream",
     "text": [
      "2700\n"
     ]
    },
    {
     "data": {
      "text/html": [
       "<div>\n",
       "<style>\n",
       "    .dataframe thead tr:only-child th {\n",
       "        text-align: right;\n",
       "    }\n",
       "\n",
       "    .dataframe thead th {\n",
       "        text-align: left;\n",
       "    }\n",
       "\n",
       "    .dataframe tbody tr th {\n",
       "        vertical-align: top;\n",
       "    }\n",
       "</style>\n",
       "<table border=\"1\" class=\"dataframe\">\n",
       "  <thead>\n",
       "    <tr style=\"text-align: right;\">\n",
       "      <th></th>\n",
       "      <th>id</th>\n",
       "      <th>user</th>\n",
       "      <th>text</th>\n",
       "      <th>favorite_count</th>\n",
       "      <th>retweet_count</th>\n",
       "    </tr>\n",
       "  </thead>\n",
       "  <tbody>\n",
       "    <tr>\n",
       "      <th>0</th>\n",
       "      <td>985157276750237697</td>\n",
       "      <td>KingJames</td>\n",
       "      <td>Preach “PrimeTime”! Once u understand that you...</td>\n",
       "      <td>22448</td>\n",
       "      <td>4098</td>\n",
       "    </tr>\n",
       "    <tr>\n",
       "      <th>1</th>\n",
       "      <td>983544585086529537</td>\n",
       "      <td>KingJames</td>\n",
       "      <td>All love and respect Young King 🤴🏾! Good luck ...</td>\n",
       "      <td>52696</td>\n",
       "      <td>5635</td>\n",
       "    </tr>\n",
       "    <tr>\n",
       "      <th>2</th>\n",
       "      <td>983341526930554880</td>\n",
       "      <td>KingJames</td>\n",
       "      <td>Just heard a new @jerreau track! SHEESH!! “Y’a...</td>\n",
       "      <td>8485</td>\n",
       "      <td>852</td>\n",
       "    </tr>\n",
       "    <tr>\n",
       "      <th>3</th>\n",
       "      <td>982021236002820096</td>\n",
       "      <td>KingJames</td>\n",
       "      <td>Can’t wait to go see it! Wife and I be waiting...</td>\n",
       "      <td>15957</td>\n",
       "      <td>1330</td>\n",
       "    </tr>\n",
       "    <tr>\n",
       "      <th>4</th>\n",
       "      <td>981698022269685760</td>\n",
       "      <td>KingJames</td>\n",
       "      <td>🔥🔥🔥🔥🔥🔥🔥🔥. https://t.co/hdP1K0mSk5</td>\n",
       "      <td>33623</td>\n",
       "      <td>4620</td>\n",
       "    </tr>\n",
       "  </tbody>\n",
       "</table>\n",
       "</div>"
      ],
      "text/plain": [
       "                   id       user  \\\n",
       "0  985157276750237697  KingJames   \n",
       "1  983544585086529537  KingJames   \n",
       "2  983341526930554880  KingJames   \n",
       "3  982021236002820096  KingJames   \n",
       "4  981698022269685760  KingJames   \n",
       "\n",
       "                                                text  favorite_count  \\\n",
       "0  Preach “PrimeTime”! Once u understand that you...           22448   \n",
       "1  All love and respect Young King 🤴🏾! Good luck ...           52696   \n",
       "2  Just heard a new @jerreau track! SHEESH!! “Y’a...            8485   \n",
       "3  Can’t wait to go see it! Wife and I be waiting...           15957   \n",
       "4                  🔥🔥🔥🔥🔥🔥🔥🔥. https://t.co/hdP1K0mSk5           33623   \n",
       "\n",
       "   retweet_count  \n",
       "0           4098  \n",
       "1           5635  \n",
       "2            852  \n",
       "3           1330  \n",
       "4           4620  "
      ]
     },
     "execution_count": 25,
     "metadata": {},
     "output_type": "execute_result"
    }
   ],
   "source": [
    "# Retrieve the tweets\n",
    "lbj = getTweetDf('KingJames', oauth)\n",
    "neymar = getTweetDf('neymarjr', oauth)\n",
    "kaka = getTweetDf('KAKA', oauth)\n",
    "athletes = [lbj, neymar, kaka]\n",
    "athletes = pd.concat(athletes) \n",
    "\n",
    "print(len(athletes))\n",
    "athletes.head()"
   ]
  },
  {
   "cell_type": "code",
   "execution_count": 45,
   "metadata": {
    "collapsed": false
   },
   "outputs": [
    {
     "data": {
      "text/html": [
       "<div>\n",
       "<style>\n",
       "    .dataframe thead tr:only-child th {\n",
       "        text-align: right;\n",
       "    }\n",
       "\n",
       "    .dataframe thead th {\n",
       "        text-align: left;\n",
       "    }\n",
       "\n",
       "    .dataframe tbody tr th {\n",
       "        vertical-align: top;\n",
       "    }\n",
       "</style>\n",
       "<table border=\"1\" class=\"dataframe\">\n",
       "  <thead>\n",
       "    <tr style=\"text-align: right;\">\n",
       "      <th></th>\n",
       "      <th>Word</th>\n",
       "      <th>Frequency</th>\n",
       "      <th>Average Retweets</th>\n",
       "      <th>Average Favorites</th>\n",
       "      <th>Group</th>\n",
       "    </tr>\n",
       "  </thead>\n",
       "  <tbody>\n",
       "    <tr>\n",
       "      <th>1</th>\n",
       "      <td>Preach</td>\n",
       "      <td>1</td>\n",
       "      <td>4098</td>\n",
       "      <td>22448</td>\n",
       "      <td>1</td>\n",
       "    </tr>\n",
       "    <tr>\n",
       "      <th>2</th>\n",
       "      <td>PrimeTime</td>\n",
       "      <td>1</td>\n",
       "      <td>4098</td>\n",
       "      <td>22448</td>\n",
       "      <td>1</td>\n",
       "    </tr>\n",
       "    <tr>\n",
       "      <th>3</th>\n",
       "      <td>Once</td>\n",
       "      <td>5</td>\n",
       "      <td>9867.8</td>\n",
       "      <td>35390.6</td>\n",
       "      <td>1</td>\n",
       "    </tr>\n",
       "    <tr>\n",
       "      <th>4</th>\n",
       "      <td>u</td>\n",
       "      <td>74</td>\n",
       "      <td>7005.26</td>\n",
       "      <td>20022.6</td>\n",
       "      <td>1</td>\n",
       "    </tr>\n",
       "    <tr>\n",
       "      <th>5</th>\n",
       "      <td>understand</td>\n",
       "      <td>2</td>\n",
       "      <td>29455.5</td>\n",
       "      <td>83218</td>\n",
       "      <td>1</td>\n",
       "    </tr>\n",
       "  </tbody>\n",
       "</table>\n",
       "</div>"
      ],
      "text/plain": [
       "         Word Frequency Average Retweets Average Favorites Group\n",
       "1      Preach         1             4098             22448     1\n",
       "2   PrimeTime         1             4098             22448     1\n",
       "3        Once         5           9867.8           35390.6     1\n",
       "4           u        74          7005.26           20022.6     1\n",
       "5  understand         2          29455.5             83218     1"
      ]
     },
     "execution_count": 45,
     "metadata": {},
     "output_type": "execute_result"
    }
   ],
   "source": [
    "# Compute the word frequencies\n",
    "athletesWordFreq = getWordFreqsDf(athletes, 1)\n",
    "athletesWordFreq.to_csv('athletes.csv', index = False)\n",
    "\n",
    "athletesWordFreq.head()"
   ]
  },
  {
   "cell_type": "markdown",
   "metadata": {},
   "source": [
    "- We get the tweets from the actors' Twitter accounts and compute the word frequencies."
   ]
  },
  {
   "cell_type": "code",
   "execution_count": 14,
   "metadata": {
    "collapsed": false
   },
   "outputs": [
    {
     "name": "stdout",
     "output_type": "stream",
     "text": [
      "2540\n"
     ]
    },
    {
     "data": {
      "text/html": [
       "<div>\n",
       "<style>\n",
       "    .dataframe thead tr:only-child th {\n",
       "        text-align: right;\n",
       "    }\n",
       "\n",
       "    .dataframe thead th {\n",
       "        text-align: left;\n",
       "    }\n",
       "\n",
       "    .dataframe tbody tr th {\n",
       "        vertical-align: top;\n",
       "    }\n",
       "</style>\n",
       "<table border=\"1\" class=\"dataframe\">\n",
       "  <thead>\n",
       "    <tr style=\"text-align: right;\">\n",
       "      <th></th>\n",
       "      <th>id</th>\n",
       "      <th>user</th>\n",
       "      <th>text</th>\n",
       "      <th>favorite_count</th>\n",
       "      <th>retweet_count</th>\n",
       "    </tr>\n",
       "  </thead>\n",
       "  <tbody>\n",
       "    <tr>\n",
       "      <th>0</th>\n",
       "      <td>992424215167959041</td>\n",
       "      <td>selenagomez</td>\n",
       "      <td>I wanna hold you when I’m not supposed to… htt...</td>\n",
       "      <td>152101</td>\n",
       "      <td>26475</td>\n",
       "    </tr>\n",
       "    <tr>\n",
       "      <th>1</th>\n",
       "      <td>992071860140392448</td>\n",
       "      <td>selenagomez</td>\n",
       "      <td>Are you guys ready for @13ReasonsWhy Season 2 ...</td>\n",
       "      <td>39460</td>\n",
       "      <td>10323</td>\n",
       "    </tr>\n",
       "    <tr>\n",
       "      <th>2</th>\n",
       "      <td>991708813404209152</td>\n",
       "      <td>selenagomez</td>\n",
       "      <td>Presave #BackToYou and you’ll be entered to wi...</td>\n",
       "      <td>44315</td>\n",
       "      <td>9984</td>\n",
       "    </tr>\n",
       "    <tr>\n",
       "      <th>3</th>\n",
       "      <td>991347554984935424</td>\n",
       "      <td>selenagomez</td>\n",
       "      <td>#BackToYou. Out May 10th, part of the @13Reaso...</td>\n",
       "      <td>93109</td>\n",
       "      <td>27717</td>\n",
       "    </tr>\n",
       "    <tr>\n",
       "      <th>4</th>\n",
       "      <td>987759479419621377</td>\n",
       "      <td>selenagomez</td>\n",
       "      <td>So inspired by your work ♥️ https://t.co/bkQdR...</td>\n",
       "      <td>43124</td>\n",
       "      <td>7192</td>\n",
       "    </tr>\n",
       "  </tbody>\n",
       "</table>\n",
       "</div>"
      ],
      "text/plain": [
       "                   id         user  \\\n",
       "0  992424215167959041  selenagomez   \n",
       "1  992071860140392448  selenagomez   \n",
       "2  991708813404209152  selenagomez   \n",
       "3  991347554984935424  selenagomez   \n",
       "4  987759479419621377  selenagomez   \n",
       "\n",
       "                                                text  favorite_count  \\\n",
       "0  I wanna hold you when I’m not supposed to… htt...          152101   \n",
       "1  Are you guys ready for @13ReasonsWhy Season 2 ...           39460   \n",
       "2  Presave #BackToYou and you’ll be entered to wi...           44315   \n",
       "3  #BackToYou. Out May 10th, part of the @13Reaso...           93109   \n",
       "4  So inspired by your work ♥️ https://t.co/bkQdR...           43124   \n",
       "\n",
       "   retweet_count  \n",
       "0          26475  \n",
       "1          10323  \n",
       "2           9984  \n",
       "3          27717  \n",
       "4           7192  "
      ]
     },
     "execution_count": 14,
     "metadata": {},
     "output_type": "execute_result"
    }
   ],
   "source": [
    "# Retrieve the tweets\n",
    "gomez = getTweetDf('selenagomez', oauth)\n",
    "hart = getTweetDf('KevinHart4real', oauth)\n",
    "dicaprio = getTweetDf('LeoDiCaprio', oauth)\n",
    "actors = [gomez, hart, dicaprio]\n",
    "actors = pd.concat(actors)\n",
    "\n",
    "print(len(actors))\n",
    "actors.head()"
   ]
  },
  {
   "cell_type": "code",
   "execution_count": 48,
   "metadata": {
    "collapsed": false
   },
   "outputs": [
    {
     "data": {
      "text/html": [
       "<div>\n",
       "<style>\n",
       "    .dataframe thead tr:only-child th {\n",
       "        text-align: right;\n",
       "    }\n",
       "\n",
       "    .dataframe thead th {\n",
       "        text-align: left;\n",
       "    }\n",
       "\n",
       "    .dataframe tbody tr th {\n",
       "        vertical-align: top;\n",
       "    }\n",
       "</style>\n",
       "<table border=\"1\" class=\"dataframe\">\n",
       "  <thead>\n",
       "    <tr style=\"text-align: right;\">\n",
       "      <th></th>\n",
       "      <th>Word</th>\n",
       "      <th>Frequency</th>\n",
       "      <th>Average Retweets</th>\n",
       "      <th>Average Favorites</th>\n",
       "      <th>Group</th>\n",
       "    </tr>\n",
       "  </thead>\n",
       "  <tbody>\n",
       "    <tr>\n",
       "      <th>1</th>\n",
       "      <td>I</td>\n",
       "      <td>670</td>\n",
       "      <td>6038.37</td>\n",
       "      <td>13728.6</td>\n",
       "      <td>2</td>\n",
       "    </tr>\n",
       "    <tr>\n",
       "      <th>2</th>\n",
       "      <td>wanna</td>\n",
       "      <td>8</td>\n",
       "      <td>13344.9</td>\n",
       "      <td>37794.9</td>\n",
       "      <td>2</td>\n",
       "    </tr>\n",
       "    <tr>\n",
       "      <th>3</th>\n",
       "      <td>hold</td>\n",
       "      <td>7</td>\n",
       "      <td>13061.6</td>\n",
       "      <td>44720.4</td>\n",
       "      <td>2</td>\n",
       "    </tr>\n",
       "    <tr>\n",
       "      <th>4</th>\n",
       "      <td>you</td>\n",
       "      <td>382</td>\n",
       "      <td>9142.83</td>\n",
       "      <td>19907.3</td>\n",
       "      <td>2</td>\n",
       "    </tr>\n",
       "    <tr>\n",
       "      <th>5</th>\n",
       "      <td>when</td>\n",
       "      <td>23</td>\n",
       "      <td>8942.3</td>\n",
       "      <td>23393.3</td>\n",
       "      <td>2</td>\n",
       "    </tr>\n",
       "  </tbody>\n",
       "</table>\n",
       "</div>"
      ],
      "text/plain": [
       "    Word Frequency Average Retweets Average Favorites Group\n",
       "1      I       670          6038.37           13728.6     2\n",
       "2  wanna         8          13344.9           37794.9     2\n",
       "3   hold         7          13061.6           44720.4     2\n",
       "4    you       382          9142.83           19907.3     2\n",
       "5   when        23           8942.3           23393.3     2"
      ]
     },
     "execution_count": 48,
     "metadata": {},
     "output_type": "execute_result"
    }
   ],
   "source": [
    "# Compute the word frequencies\n",
    "actorsWordFreq = getWordFreqsDf(actors, 2)\n",
    "actorsWordFreq.to_csv('actors.csv', index = False)\n",
    "\n",
    "actorsWordFreq.head()"
   ]
  },
  {
   "cell_type": "markdown",
   "metadata": {},
   "source": [
    "- Finally, we get the tweets from the students' Twitter accounts and compute the word frequecies."
   ]
  },
  {
   "cell_type": "code",
   "execution_count": 17,
   "metadata": {
    "collapsed": false
   },
   "outputs": [
    {
     "data": {
      "text/html": [
       "<div>\n",
       "<style>\n",
       "    .dataframe thead tr:only-child th {\n",
       "        text-align: right;\n",
       "    }\n",
       "\n",
       "    .dataframe thead th {\n",
       "        text-align: left;\n",
       "    }\n",
       "\n",
       "    .dataframe tbody tr th {\n",
       "        vertical-align: top;\n",
       "    }\n",
       "</style>\n",
       "<table border=\"1\" class=\"dataframe\">\n",
       "  <thead>\n",
       "    <tr style=\"text-align: right;\">\n",
       "      <th></th>\n",
       "      <th>id</th>\n",
       "      <th>user</th>\n",
       "      <th>text</th>\n",
       "      <th>favorite_count</th>\n",
       "      <th>retweet_count</th>\n",
       "    </tr>\n",
       "  </thead>\n",
       "  <tbody>\n",
       "    <tr>\n",
       "      <th>0</th>\n",
       "      <td>993363452365242369</td>\n",
       "      <td>the_nick_oftime</td>\n",
       "      <td>Favorite thing on Twitter aside @stoolpresiden...</td>\n",
       "      <td>0</td>\n",
       "      <td>0</td>\n",
       "    </tr>\n",
       "    <tr>\n",
       "      <th>1</th>\n",
       "      <td>989705403511529472</td>\n",
       "      <td>the_nick_oftime</td>\n",
       "      <td>Drafted a senior citizen to play tight end</td>\n",
       "      <td>8</td>\n",
       "      <td>1</td>\n",
       "    </tr>\n",
       "    <tr>\n",
       "      <th>2</th>\n",
       "      <td>960368592842903552</td>\n",
       "      <td>the_nick_oftime</td>\n",
       "      <td>#ThisIsUs https://t.co/zQRT1LMMTY</td>\n",
       "      <td>4</td>\n",
       "      <td>1</td>\n",
       "    </tr>\n",
       "    <tr>\n",
       "      <th>3</th>\n",
       "      <td>952039120053919744</td>\n",
       "      <td>the_nick_oftime</td>\n",
       "      <td>Poor mans drops his pizza but how does he get ...</td>\n",
       "      <td>12</td>\n",
       "      <td>0</td>\n",
       "    </tr>\n",
       "    <tr>\n",
       "      <th>4</th>\n",
       "      <td>950595394353946624</td>\n",
       "      <td>the_nick_oftime</td>\n",
       "      <td>Dilly dilly. Hotrod. Dilly dilly. https://t.co...</td>\n",
       "      <td>1</td>\n",
       "      <td>0</td>\n",
       "    </tr>\n",
       "  </tbody>\n",
       "</table>\n",
       "</div>"
      ],
      "text/plain": [
       "                   id             user  \\\n",
       "0  993363452365242369  the_nick_oftime   \n",
       "1  989705403511529472  the_nick_oftime   \n",
       "2  960368592842903552  the_nick_oftime   \n",
       "3  952039120053919744  the_nick_oftime   \n",
       "4  950595394353946624  the_nick_oftime   \n",
       "\n",
       "                                                text  favorite_count  \\\n",
       "0  Favorite thing on Twitter aside @stoolpresiden...               0   \n",
       "1         Drafted a senior citizen to play tight end               8   \n",
       "2                  #ThisIsUs https://t.co/zQRT1LMMTY               4   \n",
       "3  Poor mans drops his pizza but how does he get ...              12   \n",
       "4  Dilly dilly. Hotrod. Dilly dilly. https://t.co...               1   \n",
       "\n",
       "   retweet_count  \n",
       "0              0  \n",
       "1              1  \n",
       "2              1  \n",
       "3              0  \n",
       "4              0  "
      ]
     },
     "execution_count": 17,
     "metadata": {},
     "output_type": "execute_result"
    }
   ],
   "source": [
    "student1 = getTweetDf('the_nick_oftime', oauth)\n",
    "student2 = getTweetDf('monica_woolcott', oauth)\n",
    "student3 = getTweetDf('joshiscoolblaz', oauth) \n",
    "student4 = getTweetDf('Alex_Mintonn', oauth)\n",
    "student5 = getTweetDf('man_to_follow56', oauth)\n",
    "student6 = getTweetDf('Emilie21Fisher', oauth)\n",
    "student7 = getTweetDf('jswickard2', oauth) \n",
    "student8 = getTweetDf('SStrittmatter9', oauth)\n",
    "student9 = getTweetDf('mcgagh_john', oauth)\n",
    "student10 = getTweetDf('nkeirn16', oauth)\n",
    "student11 = getTweetDf('mrcarter_2', oauth)\n",
    "student12 = getTweetDf('smccauley_12', oauth)\n",
    "student13 = getTweetDf('Cgqb7', oauth)\n",
    "student14 = getTweetDf('BenHarder65', oauth)\n",
    "student15 = getTweetDf('morganhattenn', oauth)\n",
    "student16 = getTweetDf('jack___savage', oauth)\n",
    "student17 = getTweetDf('jarodscheff15', oauth)\n",
    "student18 = getTweetDf('ZellsBells74_UH', oauth)\n",
    "student19 = getTweetDf('OhhhhGawd', oauth)\n",
    "student20 = getTweetDf('JEltringham', oauth) \n",
    "student21 = getTweetDf('NoahRichards1', oauth)\n",
    "student22 = getTweetDf('kosiorCatherine', oauth)\n",
    "student24 = getTweetDf('JakePedelose', oauth)\n",
    "\n",
    "students = [student1, student2, student3, student4, student5, student6, student7, student8, student9, student10, \n",
    "           student11, student12, student13, student14, student15, student16, student17, student18, student19, student20, \n",
    "           student21, student22, student24]\n",
    "students = pd.concat(students)\n",
    "students.head()"
   ]
  },
  {
   "cell_type": "code",
   "execution_count": 47,
   "metadata": {
    "collapsed": false
   },
   "outputs": [
    {
     "data": {
      "text/html": [
       "<div>\n",
       "<style>\n",
       "    .dataframe thead tr:only-child th {\n",
       "        text-align: right;\n",
       "    }\n",
       "\n",
       "    .dataframe thead th {\n",
       "        text-align: left;\n",
       "    }\n",
       "\n",
       "    .dataframe tbody tr th {\n",
       "        vertical-align: top;\n",
       "    }\n",
       "</style>\n",
       "<table border=\"1\" class=\"dataframe\">\n",
       "  <thead>\n",
       "    <tr style=\"text-align: right;\">\n",
       "      <th></th>\n",
       "      <th>Word</th>\n",
       "      <th>Frequency</th>\n",
       "      <th>Average Retweets</th>\n",
       "      <th>Average Favorites</th>\n",
       "      <th>Group</th>\n",
       "    </tr>\n",
       "  </thead>\n",
       "  <tbody>\n",
       "    <tr>\n",
       "      <th>1</th>\n",
       "      <td>Favorite</td>\n",
       "      <td>5</td>\n",
       "      <td>0</td>\n",
       "      <td>1.8</td>\n",
       "      <td>3</td>\n",
       "    </tr>\n",
       "    <tr>\n",
       "      <th>2</th>\n",
       "      <td>thing</td>\n",
       "      <td>136</td>\n",
       "      <td>0.669118</td>\n",
       "      <td>4.71324</td>\n",
       "      <td>3</td>\n",
       "    </tr>\n",
       "    <tr>\n",
       "      <th>3</th>\n",
       "      <td>on</td>\n",
       "      <td>900</td>\n",
       "      <td>0.520737</td>\n",
       "      <td>4.46198</td>\n",
       "      <td>3</td>\n",
       "    </tr>\n",
       "    <tr>\n",
       "      <th>4</th>\n",
       "      <td>Twitter</td>\n",
       "      <td>32</td>\n",
       "      <td>0.322581</td>\n",
       "      <td>3.96774</td>\n",
       "      <td>3</td>\n",
       "    </tr>\n",
       "    <tr>\n",
       "      <th>5</th>\n",
       "      <td>aside</td>\n",
       "      <td>1</td>\n",
       "      <td>0</td>\n",
       "      <td>0</td>\n",
       "      <td>3</td>\n",
       "    </tr>\n",
       "  </tbody>\n",
       "</table>\n",
       "</div>"
      ],
      "text/plain": [
       "       Word Frequency Average Retweets Average Favorites Group\n",
       "1  Favorite         5                0               1.8     3\n",
       "2     thing       136         0.669118           4.71324     3\n",
       "3        on       900         0.520737           4.46198     3\n",
       "4   Twitter        32         0.322581           3.96774     3\n",
       "5     aside         1                0                 0     3"
      ]
     },
     "execution_count": 47,
     "metadata": {},
     "output_type": "execute_result"
    }
   ],
   "source": [
    "studentsWordFreq = getWordFreqsDf(students, 3)\n",
    "studentsWordFreq.to_csv('students.csv', index = False)\n",
    "\n",
    "studentsWordFreq.head()"
   ]
  },
  {
   "cell_type": "markdown",
   "metadata": {},
   "source": [
    "--------"
   ]
  },
  {
   "cell_type": "markdown",
   "metadata": {},
   "source": [
    "## 3. Retrieving tweets from the Democratic Party's Twitter accounts."
   ]
  },
  {
   "cell_type": "markdown",
   "metadata": {},
   "source": [
    "- Since we are given the Tweet ID of each tweets, we write a `getTweet` function that retrieve a Tweet using its ID"
   ]
  },
  {
   "cell_type": "code",
   "execution_count": 36,
   "metadata": {
    "collapsed": true
   },
   "outputs": [],
   "source": [
    "def getTweet(tweetId, oauth):\n",
    "    protected_url = 'https://api.twitter.com/1.1/statuses/show.json'\n",
    "    params = {'id': tweetId}\n",
    "\n",
    "    r = requests.get(url=protected_url, auth=oauth, params=params)\n",
    "    tweet = r.json()\n",
    "    try:\n",
    "        tweet['id'] = str(tweet['id'])\n",
    "        tweet['text'] = str(tweet['text'])\n",
    "    except:\n",
    "        # return None if failed to retrieve the tweet\n",
    "        return None\n",
    "        \n",
    "    return tweet\n"
   ]
  },
  {
   "cell_type": "markdown",
   "metadata": {},
   "source": [
    "- Next, we have a function that open a file containing the tweet ID's and retrieve the specified number of tweets from Twitter using the Twitter API."
   ]
  },
  {
   "cell_type": "code",
   "execution_count": 116,
   "metadata": {
    "collapsed": true
   },
   "outputs": [],
   "source": [
    "def getTweetsFromFile(filename, oauth, tweetsCount, offset):\n",
    "    tweetIdsFile = open(filename, 'r')\n",
    "    counter = 0\n",
    "    total_calls = 0\n",
    "    lineCounter = 0\n",
    "    tweets = []\n",
    "\n",
    "    for line in tweetIdsFile:\n",
    "        # There is a rate limit of 900 calls/15-minute period for\n",
    "        # the API endpoint, therefore we keep track of the total \n",
    "        # number of calls we've made so far\n",
    "        if total_calls >= 900:\n",
    "            break\n",
    "            \n",
    "        # offset is used to specify how far into the file do we start \n",
    "        # retrieving tweets from Twitter\n",
    "        lineCounter += 1\n",
    "        if lineCounter <= offset:\n",
    "            continue\n",
    "            \n",
    "        # Keep track of how many tweets we've stored.\n",
    "        if counter >= tweetsCount:\n",
    "            break\n",
    "            \n",
    "        # Retrieve the tweet ID and the tweet.\n",
    "        tweetId = line.strip()\n",
    "        tweet = getTweet(tweetId, oauth)\n",
    "        total_calls += 1\n",
    "        \n",
    "        # Omit failed results or retweeted tweets\n",
    "        if tweet == None or 'retweeted_status' in tweet:\n",
    "            continue\n",
    "        else:\n",
    "            counter += 1\n",
    "            tweets.append(tweet)\n",
    "\n",
    "    tweetIdsFile.close()\n",
    "\n",
    "    # Put the tweets into a DataFrame\n",
    "    tweetsDf = pd.DataFrame(tweets)\n",
    "    tweetsDf = tweetsDf[['id', 'user', 'text', 'favorite_count', 'retweet_count']]\n",
    "\n",
    "    # Properly format the usernames and the tweet ID's.\n",
    "    for index, row in tweetsDf.iterrows():\n",
    "        tweetsDf.at[index, 'user'] = tweetsDf.loc[index, 'user']['screen_name']\n",
    "        tweetsDf.at[index, 'id'] = str(tweetsDf.loc[index, 'id'])\n",
    "        \n",
    "    return tweetsDf"
   ]
  },
  {
   "cell_type": "code",
   "execution_count": 119,
   "metadata": {
    "collapsed": true
   },
   "outputs": [],
   "source": [
    "# Creating an empty DataFrame\n",
    "offset = 0\n",
    "demPartyTweets = {'id': [], 'user': [], 'text': [], 'favorite_count': [], 'retweet_count': []}\n",
    "demPartyTweets = pd.DataFrame(demPartyTweets)"
   ]
  },
  {
   "cell_type": "markdown",
   "metadata": {},
   "source": [
    "- Because there is a rate limit on how many calls to the API endpoint we can make (900 calls/15-minute window), we have to put the calls to the API in a while block and keep trying until we get enough data, because it's not possible to get all 2700 tweets at once.\n",
    "\n",
    "- Note that the following code block will have to run for approximately 45 minutes."
   ]
  },
  {
   "cell_type": "code",
   "execution_count": 123,
   "metadata": {
    "collapsed": false
   },
   "outputs": [
    {
     "data": {
      "text/html": [
       "<div>\n",
       "<style>\n",
       "    .dataframe thead tr:only-child th {\n",
       "        text-align: right;\n",
       "    }\n",
       "\n",
       "    .dataframe thead th {\n",
       "        text-align: left;\n",
       "    }\n",
       "\n",
       "    .dataframe tbody tr th {\n",
       "        vertical-align: top;\n",
       "    }\n",
       "</style>\n",
       "<table border=\"1\" class=\"dataframe\">\n",
       "  <thead>\n",
       "    <tr style=\"text-align: right;\">\n",
       "      <th></th>\n",
       "      <th>favorite_count</th>\n",
       "      <th>id</th>\n",
       "      <th>retweet_count</th>\n",
       "      <th>text</th>\n",
       "      <th>user</th>\n",
       "    </tr>\n",
       "  </thead>\n",
       "  <tbody>\n",
       "    <tr>\n",
       "      <th>0</th>\n",
       "      <td>295.0</td>\n",
       "      <td>786577430295306240</td>\n",
       "      <td>251.0</td>\n",
       "      <td>No. https://t.co/2QcAQhrGae</td>\n",
       "      <td>TheDemocrats</td>\n",
       "    </tr>\n",
       "    <tr>\n",
       "      <th>1</th>\n",
       "      <td>1785.0</td>\n",
       "      <td>786642187912114176</td>\n",
       "      <td>972.0</td>\n",
       "      <td>Trump doesn't respect women. Or minorities. Or...</td>\n",
       "      <td>TheDemocrats</td>\n",
       "    </tr>\n",
       "    <tr>\n",
       "      <th>2</th>\n",
       "      <td>241.0</td>\n",
       "      <td>796001834473095170</td>\n",
       "      <td>164.0</td>\n",
       "      <td>RT if you're ready to elect some Democrats. ht...</td>\n",
       "      <td>TheDemocrats</td>\n",
       "    </tr>\n",
       "    <tr>\n",
       "      <th>3</th>\n",
       "      <td>260.0</td>\n",
       "      <td>795996805670445057</td>\n",
       "      <td>242.0</td>\n",
       "      <td>RT if you've gotten your \"I Voted\" sticker, he...</td>\n",
       "      <td>TheDemocrats</td>\n",
       "    </tr>\n",
       "    <tr>\n",
       "      <th>4</th>\n",
       "      <td>649.0</td>\n",
       "      <td>778362374290018304</td>\n",
       "      <td>564.0</td>\n",
       "      <td>Trump used more than a quarter-million dollars...</td>\n",
       "      <td>TheDemocrats</td>\n",
       "    </tr>\n",
       "  </tbody>\n",
       "</table>\n",
       "</div>"
      ],
      "text/plain": [
       "   favorite_count                  id  retweet_count  \\\n",
       "0           295.0  786577430295306240          251.0   \n",
       "1          1785.0  786642187912114176          972.0   \n",
       "2           241.0  796001834473095170          164.0   \n",
       "3           260.0  795996805670445057          242.0   \n",
       "4           649.0  778362374290018304          564.0   \n",
       "\n",
       "                                                text          user  \n",
       "0                        No. https://t.co/2QcAQhrGae  TheDemocrats  \n",
       "1  Trump doesn't respect women. Or minorities. Or...  TheDemocrats  \n",
       "2  RT if you're ready to elect some Democrats. ht...  TheDemocrats  \n",
       "3  RT if you've gotten your \"I Voted\" sticker, he...  TheDemocrats  \n",
       "4  Trump used more than a quarter-million dollars...  TheDemocrats  "
      ]
     },
     "execution_count": 123,
     "metadata": {},
     "output_type": "execute_result"
    }
   ],
   "source": [
    "# we only want around 2700 tweets\n",
    "while offset < 2700:\n",
    "    tmpDf = getTweetsFromFile('democratic-party-timelines.txt', oauth, 100, offset)\n",
    "    demPartyTweets = [demPartyTweets, tmpDf]\n",
    "    demPartyTweets = pd.concat(demPartyTweets)\n",
    "\n",
    "    offset = len(demPartyTweets)\n",
    "\n",
    "demPartyTweets.head()"
   ]
  },
  {
   "cell_type": "code",
   "execution_count": 46,
   "metadata": {
    "collapsed": false
   },
   "outputs": [
    {
     "data": {
      "text/html": [
       "<div>\n",
       "<style>\n",
       "    .dataframe thead tr:only-child th {\n",
       "        text-align: right;\n",
       "    }\n",
       "\n",
       "    .dataframe thead th {\n",
       "        text-align: left;\n",
       "    }\n",
       "\n",
       "    .dataframe tbody tr th {\n",
       "        vertical-align: top;\n",
       "    }\n",
       "</style>\n",
       "<table border=\"1\" class=\"dataframe\">\n",
       "  <thead>\n",
       "    <tr style=\"text-align: right;\">\n",
       "      <th></th>\n",
       "      <th>Word</th>\n",
       "      <th>Frequency</th>\n",
       "      <th>Average Retweets</th>\n",
       "      <th>Average Favorites</th>\n",
       "      <th>Group</th>\n",
       "    </tr>\n",
       "  </thead>\n",
       "  <tbody>\n",
       "    <tr>\n",
       "      <th>1</th>\n",
       "      <td>No</td>\n",
       "      <td>6</td>\n",
       "      <td>132</td>\n",
       "      <td>181.25</td>\n",
       "      <td>4</td>\n",
       "    </tr>\n",
       "    <tr>\n",
       "      <th>2</th>\n",
       "      <td>https</td>\n",
       "      <td>380</td>\n",
       "      <td>117.87</td>\n",
       "      <td>166.194</td>\n",
       "      <td>4</td>\n",
       "    </tr>\n",
       "    <tr>\n",
       "      <th>3</th>\n",
       "      <td>t</td>\n",
       "      <td>411</td>\n",
       "      <td>119.82</td>\n",
       "      <td>170.154</td>\n",
       "      <td>4</td>\n",
       "    </tr>\n",
       "    <tr>\n",
       "      <th>4</th>\n",
       "      <td>co</td>\n",
       "      <td>380</td>\n",
       "      <td>117.87</td>\n",
       "      <td>166.194</td>\n",
       "      <td>4</td>\n",
       "    </tr>\n",
       "    <tr>\n",
       "      <th>5</th>\n",
       "      <td>2QcAQhrGae</td>\n",
       "      <td>1</td>\n",
       "      <td>251</td>\n",
       "      <td>295</td>\n",
       "      <td>4</td>\n",
       "    </tr>\n",
       "  </tbody>\n",
       "</table>\n",
       "</div>"
      ],
      "text/plain": [
       "         Word Frequency Average Retweets Average Favorites Group\n",
       "1          No         6              132            181.25     4\n",
       "2       https       380           117.87           166.194     4\n",
       "3           t       411           119.82           170.154     4\n",
       "4          co       380           117.87           166.194     4\n",
       "5  2QcAQhrGae         1              251               295     4"
      ]
     },
     "execution_count": 46,
     "metadata": {},
     "output_type": "execute_result"
    }
   ],
   "source": [
    "demWordFreqs = getWordFreqsDf(demPartyTweets, 4)\n",
    "demWordFreqs.head()"
   ]
  },
  {
   "cell_type": "markdown",
   "metadata": {},
   "source": [
    "## 4. Putting everything into a SQL Database."
   ]
  },
  {
   "cell_type": "markdown",
   "metadata": {},
   "source": [
    "- Now that we have all the data we need, we create a SQL database and start putting data in."
   ]
  },
  {
   "cell_type": "markdown",
   "metadata": {},
   "source": [
    "- First we use the `getCreds` function to obtain the credentials to connecting to the SQL Database on Hadoop2."
   ]
  },
  {
   "cell_type": "code",
   "execution_count": 26,
   "metadata": {
    "collapsed": true
   },
   "outputs": [],
   "source": [
    "def getCreds(filename, subset, defaults = {}):\n",
    "    \"\"\" Use `filename` to look for a file containing a json-encoded dictionary\n",
    "        of credentials.  If the file is successfully found and contains valid\n",
    "        json, return the sub-dictionary based on `subset`.  If the file is not\n",
    "        found, is not accessible, has improper encoding, or if the subset is \n",
    "        not present in the dictionary, return the given defaults.\n",
    "    \"\"\"\n",
    "    try:\n",
    "        with open(filename, 'r') as file:\n",
    "            D = json.load(file)\n",
    "            if D[subset]:\n",
    "                return D[subset]\n",
    "            else:\n",
    "                return defaults\n",
    "    except:\n",
    "        return defaults\n",
    "\n",
    "creds = getCreds(\"mysql_creds.json\", \"mysql\", defaults={'user': 'studen_j1', \n",
    "                                                  'password': 'studen_j1'})"
   ]
  },
  {
   "cell_type": "markdown",
   "metadata": {},
   "source": [
    "- Next we use the function `db_setup` to create a connection and its engine:"
   ]
  },
  {
   "cell_type": "code",
   "execution_count": 62,
   "metadata": {
    "collapsed": true
   },
   "outputs": [],
   "source": [
    "def db_setup(user, password, database):\n",
    "    template = 'mysql+mysqlconnector://{}:{}@hadoop2.mathsci.denison.edu/{}'\n",
    "    cstring = template.format(user, password, database)\n",
    "    e = sa.create_engine(cstring)\n",
    "    c = e.connect()\n",
    "    return e, c"
   ]
  },
  {
   "cell_type": "code",
   "execution_count": 68,
   "metadata": {
    "collapsed": true
   },
   "outputs": [],
   "source": [
    "try:\n",
    "    connection.close()\n",
    "    del engine\n",
    "except:\n",
    "    pass\n",
    "\n",
    "engine, connection = db_setup(creds['user'], creds['password'], creds['user'])\n",
    "database = creds['user']"
   ]
  },
  {
   "cell_type": "markdown",
   "metadata": {},
   "source": [
    "- We then proceed to creating 2 tables to store the data.\n",
    "\n",
    "- The first table is used to stored all the tweets we retrieved, along with their texts, id's, favorite count, retweet count and the usernames of the tweets' owners.\n",
    "\n",
    "id | username | text | favorite | retweet\n",
    "---|----------|------|----------|----------\n",
    "1  | quantran312 | Sample tweet | 12 | 3\n",
    "\n",
    "- The second table is used to stored the information of all the words that appears in the tweets: the word, its frequency, average favorite countand retweet count, and the group (of the 4 groups) that the word belongs to.\n",
    "\n",
    "word | frequency | avg_favorite | avg_retweet | group\n",
    "-----|-----------|--------------|-------------|-------\n",
    "thank| 2313      | 1235.1231    | 634.512     | 1 "
   ]
  },
  {
   "cell_type": "code",
   "execution_count": 71,
   "metadata": {
    "collapsed": false
   },
   "outputs": [
    {
     "name": "stdout",
     "output_type": "stream",
     "text": [
      "The sql extension is already loaded. To reload it, use:\n",
      "  %reload_ext sql\n"
     ]
    }
   ],
   "source": [
    "%load_ext sql"
   ]
  },
  {
   "cell_type": "code",
   "execution_count": 65,
   "metadata": {
    "collapsed": false
   },
   "outputs": [
    {
     "data": {
      "text/plain": [
       "'Connected: tran_q1@'"
      ]
     },
     "execution_count": 65,
     "metadata": {},
     "output_type": "execute_result"
    }
   ],
   "source": [
    "%sql $cstring"
   ]
  },
  {
   "cell_type": "code",
   "execution_count": 69,
   "metadata": {
    "collapsed": false
   },
   "outputs": [
    {
     "name": "stdout",
     "output_type": "stream",
     "text": [
      "0 rows affected.\n"
     ]
    },
    {
     "data": {
      "text/plain": [
       "[]"
      ]
     },
     "execution_count": 69,
     "metadata": {},
     "output_type": "execute_result"
    }
   ],
   "source": [
    "%sql USE $database"
   ]
  },
  {
   "cell_type": "code",
   "execution_count": 101,
   "metadata": {
    "collapsed": false
   },
   "outputs": [
    {
     "name": "stdout",
     "output_type": "stream",
     "text": [
      "0 rows affected.\n"
     ]
    },
    {
     "data": {
      "text/plain": [
       "[]"
      ]
     },
     "execution_count": 101,
     "metadata": {},
     "output_type": "execute_result"
    }
   ],
   "source": [
    "%%sql\n",
    "\n",
    "CREATE TABLE TWEETS(\n",
    "    ID VARCHAR(128)       NOT NULL,\n",
    "    USERNAME VARCHAR(256) NOT NULL,\n",
    "    TEXT TEXT             NOT NULL,\n",
    "    FAVORITE INT          NOT NULL,\n",
    "    RETWEET INT           NOT NULL,\n",
    "    PRIMARY KEY (ID)\n",
    ");"
   ]
  },
  {
   "cell_type": "code",
   "execution_count": 110,
   "metadata": {
    "collapsed": false
   },
   "outputs": [
    {
     "name": "stdout",
     "output_type": "stream",
     "text": [
      "0 rows affected.\n"
     ]
    },
    {
     "data": {
      "text/plain": [
       "[]"
      ]
     },
     "execution_count": 110,
     "metadata": {},
     "output_type": "execute_result"
    }
   ],
   "source": [
    "%%sql\n",
    "\n",
    "CREATE TABLE WORDS(\n",
    "    WORD VARCHAR(256)             NOT NULL,\n",
    "    FREQUENCY INT                 NOT NULL,\n",
    "    AVG_FAVORITE DECIMAL(18, 3)   NOT NULL,\n",
    "    AVG_RETWEET DECIMAL(18, 3)    NOT NULL,\n",
    "    GROUP_NUM INT                 NOT NULL\n",
    ");"
   ]
  },
  {
   "cell_type": "markdown",
   "metadata": {},
   "source": [
    "- Next we go through all 4 DataFrames that contain the tweets for the 4 groups, and put them into the MySQL database."
   ]
  },
  {
   "cell_type": "code",
   "execution_count": 90,
   "metadata": {
    "collapsed": true
   },
   "outputs": [],
   "source": [
    "def insertTweets(connection, tweetsDf):\n",
    "    insertQuery = sa.sql.text(\"INSERT INTO TWEETS VALUES \\\n",
    "                              (:id, :username, :text, :favorite, :retweet)\")\n",
    "    \n",
    "    for index, tweet in tweetsDf.iterrows():\n",
    "        boundInsertQuery = insertQuery.bindparams(id=tweet['id'],\n",
    "                                                 username=tweet['user'],\n",
    "                                                 text=tweet['text'],\n",
    "                                                 favorite=tweet['favorite_count'],\n",
    "                                                 retweet=tweet['retweet_count'])\n",
    "        connection.execute(boundInsertQuery)"
   ]
  },
  {
   "cell_type": "code",
   "execution_count": 98,
   "metadata": {
    "collapsed": true
   },
   "outputs": [],
   "source": [
    "insertTweets(connection, athletes)\n",
    "insertTweets(connection, actors)\n",
    "insertTweets(connection, students)\n",
    "insertTweets(connection, demPartyTweets)"
   ]
  },
  {
   "cell_type": "markdown",
   "metadata": {},
   "source": [
    "- Lastly we go through all the 4 DataFrames that contain the word frequencies for the 4 groups and put them into the database."
   ]
  },
  {
   "cell_type": "code",
   "execution_count": 106,
   "metadata": {
    "collapsed": true
   },
   "outputs": [],
   "source": [
    "def insertWordFreqs(connection, wordFreqsDf):\n",
    "    insertQuery = sa.sql.text(\"INSERT INTO WORDS VALUES\\\n",
    "                              (:word, :freq, :avg_favorite, :avg_retweet, :group_num)\")\n",
    "    \n",
    "    for index, row in wordFreqsDf.iterrows():\n",
    "        boundInsertQuery = insertQuery.bindparams(word=row['Word'],\n",
    "                                                  freq=row['Frequency'],\n",
    "                                                  avg_favorite=row['Average Favorites'],\n",
    "                                                  avg_retweet=row['Average Retweets'],\n",
    "                                                  group_num=row['Group'])\n",
    "        connection.execute(boundInsertQuery)"
   ]
  },
  {
   "cell_type": "code",
   "execution_count": 111,
   "metadata": {
    "collapsed": true
   },
   "outputs": [],
   "source": [
    "insertWordFreqs(connection, athletesWordFreq)\n",
    "insertWordFreqs(connection, actorsWordFreq)\n",
    "insertWordFreqs(connection, studentsWordFreq)\n",
    "insertWordFreqs(connection, demWordFreqs)"
   ]
  }
 ],
 "metadata": {
  "kernelspec": {
   "display_name": "Python 3",
   "language": "python",
   "name": "python3"
  },
  "language_info": {
   "codemirror_mode": {
    "name": "ipython",
    "version": 3
   },
   "file_extension": ".py",
   "mimetype": "text/x-python",
   "name": "python",
   "nbconvert_exporter": "python",
   "pygments_lexer": "ipython3",
   "version": "3.6.0"
  }
 },
 "nbformat": 4,
 "nbformat_minor": 2
}
